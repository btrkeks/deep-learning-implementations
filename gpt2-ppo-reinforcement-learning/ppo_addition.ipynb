{
 "cells": [
  {
   "cell_type": "markdown",
   "metadata": {
    "id": "KjTayhPma_sq"
   },
   "source": [
    "## Task Description\n",
    "\n",
    "Apply Proximal Policy Optimization to fine-tune the pretrained GPT-2 Medium model so that it excels at simple addition problems with operands from 0 to 100 (or 0 to 50). Define a reward that reflects arithmetic correctness, train the model with the PPO algorithm, and track the key loss components throughout training. Finally, visualize how the policy loss, value loss, and entropy loss evolve over the course of optimization."
   ]
  },
  {
   "cell_type": "markdown",
   "metadata": {
    "id": "AMeyIJgca_sr"
   },
   "source": [
    "## Code"
   ]
  },
  {
   "cell_type": "code",
   "execution_count": 1,
   "metadata": {
    "id": "Clu_E8FEOsFm"
   },
   "outputs": [],
   "source": [
    "%load_ext autoreload\n",
    "%autoreload 2"
   ]
  },
  {
   "cell_type": "code",
   "execution_count": null,
   "metadata": {
    "colab": {
     "base_uri": "https://localhost:8080/"
    },
    "id": "iKS1rmfXOprf",
    "outputId": "56aa9174-6de9-48d7-ee9f-b1165dbf9536",
    "scrolled": true
   },
   "outputs": [
    {
     "name": "stdout",
     "output_type": "stream",
     "text": [
      "Requirement already satisfied: transformers in /usr/local/lib/python3.11/dist-packages (4.51.3)\n",
      "Requirement already satisfied: trl==0.11.3 in /usr/local/lib/python3.11/dist-packages (0.11.3)\n",
      "Requirement already satisfied: wandb in /usr/local/lib/python3.11/dist-packages (0.19.11)\n",
      "Requirement already satisfied: torch>=1.4.0 in /usr/local/lib/python3.11/dist-packages (from trl==0.11.3) (2.6.0+cu124)\n",
      "Requirement already satisfied: accelerate in /usr/local/lib/python3.11/dist-packages (from trl==0.11.3) (1.6.0)\n",
      "Requirement already satisfied: datasets in /usr/local/lib/python3.11/dist-packages (from trl==0.11.3) (2.14.4)\n",
      "Requirement already satisfied: tyro>=0.5.11 in /usr/local/lib/python3.11/dist-packages (from trl==0.11.3) (0.9.20)\n",
      "Requirement already satisfied: numpy>=1.18.2 in /usr/local/lib/python3.11/dist-packages (from trl==0.11.3) (2.0.2)\n",
      "Requirement already satisfied: filelock in /usr/local/lib/python3.11/dist-packages (from transformers) (3.18.0)\n",
      "Requirement already satisfied: huggingface-hub<1.0,>=0.30.0 in /usr/local/lib/python3.11/dist-packages (from transformers) (0.31.2)\n",
      "Requirement already satisfied: packaging>=20.0 in /usr/local/lib/python3.11/dist-packages (from transformers) (24.2)\n",
      "Requirement already satisfied: pyyaml>=5.1 in /usr/local/lib/python3.11/dist-packages (from transformers) (6.0.2)\n",
      "Requirement already satisfied: regex!=2019.12.17 in /usr/local/lib/python3.11/dist-packages (from transformers) (2024.11.6)\n",
      "Requirement already satisfied: requests in /usr/local/lib/python3.11/dist-packages (from transformers) (2.32.3)\n",
      "Requirement already satisfied: tokenizers<0.22,>=0.21 in /usr/local/lib/python3.11/dist-packages (from transformers) (0.21.1)\n",
      "Requirement already satisfied: safetensors>=0.4.3 in /usr/local/lib/python3.11/dist-packages (from transformers) (0.5.3)\n",
      "Requirement already satisfied: tqdm>=4.27 in /usr/local/lib/python3.11/dist-packages (from transformers) (4.67.1)\n",
      "Requirement already satisfied: click!=8.0.0,>=7.1 in /usr/local/lib/python3.11/dist-packages (from wandb) (8.2.0)\n",
      "Requirement already satisfied: docker-pycreds>=0.4.0 in /usr/local/lib/python3.11/dist-packages (from wandb) (0.4.0)\n",
      "Requirement already satisfied: gitpython!=3.1.29,>=1.0.0 in /usr/local/lib/python3.11/dist-packages (from wandb) (3.1.44)\n",
      "Requirement already satisfied: platformdirs in /usr/local/lib/python3.11/dist-packages (from wandb) (4.3.8)\n",
      "Requirement already satisfied: protobuf!=4.21.0,!=5.28.0,<7,>=3.19.0 in /usr/local/lib/python3.11/dist-packages (from wandb) (5.29.4)\n",
      "Requirement already satisfied: psutil>=5.0.0 in /usr/local/lib/python3.11/dist-packages (from wandb) (5.9.5)\n",
      "Requirement already satisfied: pydantic<3 in /usr/local/lib/python3.11/dist-packages (from wandb) (2.11.4)\n",
      "Requirement already satisfied: sentry-sdk>=2.0.0 in /usr/local/lib/python3.11/dist-packages (from wandb) (2.28.0)\n",
      "Requirement already satisfied: setproctitle in /usr/local/lib/python3.11/dist-packages (from wandb) (1.3.6)\n",
      "Requirement already satisfied: setuptools in /usr/local/lib/python3.11/dist-packages (from wandb) (75.2.0)\n",
      "Requirement already satisfied: typing-extensions<5,>=4.4 in /usr/local/lib/python3.11/dist-packages (from wandb) (4.13.2)\n",
      "Requirement already satisfied: six>=1.4.0 in /usr/local/lib/python3.11/dist-packages (from docker-pycreds>=0.4.0->wandb) (1.17.0)\n",
      "Requirement already satisfied: gitdb<5,>=4.0.1 in /usr/local/lib/python3.11/dist-packages (from gitpython!=3.1.29,>=1.0.0->wandb) (4.0.12)\n",
      "Requirement already satisfied: fsspec>=2023.5.0 in /usr/local/lib/python3.11/dist-packages (from huggingface-hub<1.0,>=0.30.0->transformers) (2025.3.2)\n",
      "Requirement already satisfied: annotated-types>=0.6.0 in /usr/local/lib/python3.11/dist-packages (from pydantic<3->wandb) (0.7.0)\n",
      "Requirement already satisfied: pydantic-core==2.33.2 in /usr/local/lib/python3.11/dist-packages (from pydantic<3->wandb) (2.33.2)\n",
      "Requirement already satisfied: typing-inspection>=0.4.0 in /usr/local/lib/python3.11/dist-packages (from pydantic<3->wandb) (0.4.0)\n",
      "Requirement already satisfied: charset-normalizer<4,>=2 in /usr/local/lib/python3.11/dist-packages (from requests->transformers) (3.4.2)\n",
      "Requirement already satisfied: idna<4,>=2.5 in /usr/local/lib/python3.11/dist-packages (from requests->transformers) (3.10)\n",
      "Requirement already satisfied: urllib3<3,>=1.21.1 in /usr/local/lib/python3.11/dist-packages (from requests->transformers) (2.4.0)\n",
      "Requirement already satisfied: certifi>=2017.4.17 in /usr/local/lib/python3.11/dist-packages (from requests->transformers) (2025.4.26)\n",
      "Requirement already satisfied: networkx in /usr/local/lib/python3.11/dist-packages (from torch>=1.4.0->trl==0.11.3) (3.4.2)\n",
      "Requirement already satisfied: jinja2 in /usr/local/lib/python3.11/dist-packages (from torch>=1.4.0->trl==0.11.3) (3.1.6)\n",
      "Requirement already satisfied: nvidia-cuda-nvrtc-cu12==12.4.127 in /usr/local/lib/python3.11/dist-packages (from torch>=1.4.0->trl==0.11.3) (12.4.127)\n",
      "Requirement already satisfied: nvidia-cuda-runtime-cu12==12.4.127 in /usr/local/lib/python3.11/dist-packages (from torch>=1.4.0->trl==0.11.3) (12.4.127)\n",
      "Requirement already satisfied: nvidia-cuda-cupti-cu12==12.4.127 in /usr/local/lib/python3.11/dist-packages (from torch>=1.4.0->trl==0.11.3) (12.4.127)\n",
      "Requirement already satisfied: nvidia-cudnn-cu12==9.1.0.70 in /usr/local/lib/python3.11/dist-packages (from torch>=1.4.0->trl==0.11.3) (9.1.0.70)\n",
      "Requirement already satisfied: nvidia-cublas-cu12==12.4.5.8 in /usr/local/lib/python3.11/dist-packages (from torch>=1.4.0->trl==0.11.3) (12.4.5.8)\n",
      "Requirement already satisfied: nvidia-cufft-cu12==11.2.1.3 in /usr/local/lib/python3.11/dist-packages (from torch>=1.4.0->trl==0.11.3) (11.2.1.3)\n",
      "Requirement already satisfied: nvidia-curand-cu12==10.3.5.147 in /usr/local/lib/python3.11/dist-packages (from torch>=1.4.0->trl==0.11.3) (10.3.5.147)\n",
      "Requirement already satisfied: nvidia-cusolver-cu12==11.6.1.9 in /usr/local/lib/python3.11/dist-packages (from torch>=1.4.0->trl==0.11.3) (11.6.1.9)\n",
      "Requirement already satisfied: nvidia-cusparse-cu12==12.3.1.170 in /usr/local/lib/python3.11/dist-packages (from torch>=1.4.0->trl==0.11.3) (12.3.1.170)\n",
      "Requirement already satisfied: nvidia-cusparselt-cu12==0.6.2 in /usr/local/lib/python3.11/dist-packages (from torch>=1.4.0->trl==0.11.3) (0.6.2)\n",
      "Requirement already satisfied: nvidia-nccl-cu12==2.21.5 in /usr/local/lib/python3.11/dist-packages (from torch>=1.4.0->trl==0.11.3) (2.21.5)\n",
      "Requirement already satisfied: nvidia-nvtx-cu12==12.4.127 in /usr/local/lib/python3.11/dist-packages (from torch>=1.4.0->trl==0.11.3) (12.4.127)\n",
      "Requirement already satisfied: nvidia-nvjitlink-cu12==12.4.127 in /usr/local/lib/python3.11/dist-packages (from torch>=1.4.0->trl==0.11.3) (12.4.127)\n",
      "Requirement already satisfied: triton==3.2.0 in /usr/local/lib/python3.11/dist-packages (from torch>=1.4.0->trl==0.11.3) (3.2.0)\n",
      "Requirement already satisfied: sympy==1.13.1 in /usr/local/lib/python3.11/dist-packages (from torch>=1.4.0->trl==0.11.3) (1.13.1)\n",
      "Requirement already satisfied: mpmath<1.4,>=1.1.0 in /usr/local/lib/python3.11/dist-packages (from sympy==1.13.1->torch>=1.4.0->trl==0.11.3) (1.3.0)\n",
      "Requirement already satisfied: docstring-parser>=0.15 in /usr/local/lib/python3.11/dist-packages (from tyro>=0.5.11->trl==0.11.3) (0.16)\n",
      "Requirement already satisfied: rich>=11.1.0 in /usr/local/lib/python3.11/dist-packages (from tyro>=0.5.11->trl==0.11.3) (13.9.4)\n",
      "Requirement already satisfied: shtab>=1.5.6 in /usr/local/lib/python3.11/dist-packages (from tyro>=0.5.11->trl==0.11.3) (1.7.2)\n",
      "Requirement already satisfied: typeguard>=4.0.0 in /usr/local/lib/python3.11/dist-packages (from tyro>=0.5.11->trl==0.11.3) (4.4.2)\n",
      "Requirement already satisfied: pyarrow>=8.0.0 in /usr/local/lib/python3.11/dist-packages (from datasets->trl==0.11.3) (18.1.0)\n",
      "Requirement already satisfied: dill<0.3.8,>=0.3.0 in /usr/local/lib/python3.11/dist-packages (from datasets->trl==0.11.3) (0.3.7)\n",
      "Requirement already satisfied: pandas in /usr/local/lib/python3.11/dist-packages (from datasets->trl==0.11.3) (2.2.2)\n",
      "Requirement already satisfied: xxhash in /usr/local/lib/python3.11/dist-packages (from datasets->trl==0.11.3) (3.5.0)\n",
      "Requirement already satisfied: multiprocess in /usr/local/lib/python3.11/dist-packages (from datasets->trl==0.11.3) (0.70.15)\n",
      "Requirement already satisfied: aiohttp in /usr/local/lib/python3.11/dist-packages (from datasets->trl==0.11.3) (3.11.15)\n",
      "Requirement already satisfied: aiohappyeyeballs>=2.3.0 in /usr/local/lib/python3.11/dist-packages (from aiohttp->datasets->trl==0.11.3) (2.6.1)\n",
      "Requirement already satisfied: aiosignal>=1.1.2 in /usr/local/lib/python3.11/dist-packages (from aiohttp->datasets->trl==0.11.3) (1.3.2)\n",
      "Requirement already satisfied: attrs>=17.3.0 in /usr/local/lib/python3.11/dist-packages (from aiohttp->datasets->trl==0.11.3) (25.3.0)\n",
      "Requirement already satisfied: frozenlist>=1.1.1 in /usr/local/lib/python3.11/dist-packages (from aiohttp->datasets->trl==0.11.3) (1.6.0)\n",
      "Requirement already satisfied: multidict<7.0,>=4.5 in /usr/local/lib/python3.11/dist-packages (from aiohttp->datasets->trl==0.11.3) (6.4.3)\n",
      "Requirement already satisfied: propcache>=0.2.0 in /usr/local/lib/python3.11/dist-packages (from aiohttp->datasets->trl==0.11.3) (0.3.1)\n",
      "Requirement already satisfied: yarl<2.0,>=1.17.0 in /usr/local/lib/python3.11/dist-packages (from aiohttp->datasets->trl==0.11.3) (1.20.0)\n",
      "Requirement already satisfied: smmap<6,>=3.0.1 in /usr/local/lib/python3.11/dist-packages (from gitdb<5,>=4.0.1->gitpython!=3.1.29,>=1.0.0->wandb) (5.0.2)\n",
      "Requirement already satisfied: markdown-it-py>=2.2.0 in /usr/local/lib/python3.11/dist-packages (from rich>=11.1.0->tyro>=0.5.11->trl==0.11.3) (3.0.0)\n",
      "Requirement already satisfied: pygments<3.0.0,>=2.13.0 in /usr/local/lib/python3.11/dist-packages (from rich>=11.1.0->tyro>=0.5.11->trl==0.11.3) (2.19.1)\n",
      "Requirement already satisfied: MarkupSafe>=2.0 in /usr/local/lib/python3.11/dist-packages (from jinja2->torch>=1.4.0->trl==0.11.3) (3.0.2)\n",
      "Requirement already satisfied: python-dateutil>=2.8.2 in /usr/local/lib/python3.11/dist-packages (from pandas->datasets->trl==0.11.3) (2.9.0.post0)\n",
      "Requirement already satisfied: pytz>=2020.1 in /usr/local/lib/python3.11/dist-packages (from pandas->datasets->trl==0.11.3) (2025.2)\n",
      "Requirement already satisfied: tzdata>=2022.7 in /usr/local/lib/python3.11/dist-packages (from pandas->datasets->trl==0.11.3) (2025.2)\n",
      "Requirement already satisfied: mdurl~=0.1 in /usr/local/lib/python3.11/dist-packages (from markdown-it-py>=2.2.0->rich>=11.1.0->tyro>=0.5.11->trl==0.11.3) (0.1.2)\n"
     ]
    }
   ],
   "source": [
    "%pip install transformers trl==0.11.3 wandb"
   ]
  },
  {
   "cell_type": "code",
   "execution_count": 3,
   "metadata": {
    "id": "ACGYaPC_bKZu"
   },
   "outputs": [],
   "source": [
    "import torch\n",
    "from transformers import AutoTokenizer, AutoModelForCausalLM\n",
    "from trl import PPOTrainer, PPOConfig, AutoModelForCausalLMWithValueHead\n",
    "import random\n",
    "from torch.utils.data import Dataset\n",
    "from tqdm import tqdm\n",
    "import re\n",
    "import math"
   ]
  },
  {
   "cell_type": "code",
   "execution_count": 4,
   "metadata": {
    "id": "nHvjS3qebcJ1"
   },
   "outputs": [],
   "source": [
    "device = torch.device(\"cuda\" if torch.cuda.is_available() else \"mps\" if torch.backends.mps.is_available() else \"cpu\")"
   ]
  },
  {
   "cell_type": "code",
   "execution_count": 5,
   "metadata": {
    "id": "vAsgE9pvbRYG"
   },
   "outputs": [],
   "source": [
    "model_name = \"gpt2-medium\""
   ]
  },
  {
   "cell_type": "code",
   "execution_count": 6,
   "metadata": {
    "colab": {
     "base_uri": "https://localhost:8080/"
    },
    "id": "dA0UdJDTbV-M",
    "outputId": "19ec1d80-ce0f-408e-ad2f-45bebc25cea8"
   },
   "outputs": [
    {
     "name": "stderr",
     "output_type": "stream",
     "text": [
      "/usr/local/lib/python3.11/dist-packages/huggingface_hub/utils/_auth.py:94: UserWarning: \n",
      "The secret `HF_TOKEN` does not exist in your Colab secrets.\n",
      "To authenticate with the Hugging Face Hub, create a token in your settings tab (https://huggingface.co/settings/tokens), set it as secret in your Google Colab and restart your session.\n",
      "You will be able to reuse this secret in all of your notebooks.\n",
      "Please note that authentication is recommended but still optional to access public models or datasets.\n",
      "  warnings.warn(\n"
     ]
    }
   ],
   "source": [
    "tokenizer = AutoTokenizer.from_pretrained(model_name)\n",
    "tokenizer.pad_token = tokenizer.eos_token\n",
    "\n",
    "model = AutoModelForCausalLMWithValueHead.from_pretrained(model_name)\n",
    "ref_model = AutoModelForCausalLMWithValueHead.from_pretrained(model_name)"
   ]
  },
  {
   "cell_type": "code",
   "execution_count": 7,
   "metadata": {
    "id": "Rf8BuOEcPphN"
   },
   "outputs": [],
   "source": [
    "MIN_OPERAND = 0\n",
    "MAX_OPERAND = 50\n",
    "DATASET_SIZE = 20000\n",
    "\n",
    "class AdditionDataset(Dataset):\n",
    "    def __init__(self, tokenizer, min_operand=0, max_operand=99, num_samples=1000):\n",
    "        self.tokenizer = tokenizer\n",
    "        self.min_operand = min_operand\n",
    "        self.max_operand = max_operand\n",
    "        self.num_samples = num_samples\n",
    "\n",
    "    def __len__(self):\n",
    "        return self.num_samples\n",
    "\n",
    "    def __getitem__(self, idx):\n",
    "        # Generate on the fly\n",
    "        num1 = random.randint(self.min_operand, self.max_operand)\n",
    "        num2 = random.randint(self.min_operand, self.max_operand)\n",
    "        correct_sum = num1 + num2\n",
    "\n",
    "        prompt = f\"{num1} + {num2} = \"\n",
    "\n",
    "        input_ids = self.tokenizer.encode(prompt, return_tensors=\"pt\").squeeze(0)\n",
    "\n",
    "        return {\n",
    "            \"query\": prompt,\n",
    "            \"input_ids\": input_ids,\n",
    "            \"answer_str\": str(correct_sum)\n",
    "        }\n",
    "\n",
    "def collator(data):\n",
    "    return dict((key, [d[key] for d in data]) for key in data[0])"
   ]
  },
  {
   "cell_type": "code",
   "execution_count": 8,
   "metadata": {
    "id": "YlKiCaVR4eHK"
   },
   "outputs": [],
   "source": [
    "dataset = AdditionDataset(tokenizer, min_operand=MIN_OPERAND, max_operand=MAX_OPERAND, num_samples=DATASET_SIZE)"
   ]
  },
  {
   "cell_type": "code",
   "execution_count": 9,
   "metadata": {
    "colab": {
     "base_uri": "https://localhost:8080/",
     "height": 211
    },
    "id": "3qA7UKLVbYf9",
    "outputId": "760d0b7a-8bd6-4226-f0d9-f40576c3e3e6"
   },
   "outputs": [
    {
     "name": "stderr",
     "output_type": "stream",
     "text": [
      "/usr/local/lib/python3.11/dist-packages/trl/trainer/ppo_config.py:207: FutureWarning: `PPOConfig` is deprecated and will be removed in the future. Please use `PPOv2Config` with `PPOv2Trainer` instead.\n",
      "  warnings.warn(\n",
      "/usr/local/lib/python3.11/dist-packages/trl/trainer/ppo_trainer.py:193: FutureWarning: `PPOTrainer` is deprecated and will be removed in trl v0.12. Please use `PPOv2Trainer` instead.\n",
      "  warnings.warn(\n",
      "\u001b[34m\u001b[1mwandb\u001b[0m: Currently logged in as: \u001b[33mdadra102\u001b[0m (\u001b[33mdadra102-heinrich-heine-university-d-sseldorf\u001b[0m) to \u001b[32mhttps://api.wandb.ai\u001b[0m. Use \u001b[1m`wandb login --relogin`\u001b[0m to force relogin\n"
     ]
    },
    {
     "data": {
      "text/html": [
       "Tracking run with wandb version 0.19.11"
      ],
      "text/plain": [
       "<IPython.core.display.HTML object>"
      ]
     },
     "metadata": {},
     "output_type": "display_data"
    },
    {
     "data": {
      "text/html": [
       "Run data is saved locally in <code>/content/wandb/run-20250516_131027-7566cr7e</code>"
      ],
      "text/plain": [
       "<IPython.core.display.HTML object>"
      ]
     },
     "metadata": {},
     "output_type": "display_data"
    },
    {
     "data": {
      "text/html": [
       "Syncing run <strong><a href='https://wandb.ai/dadra102-heinrich-heine-university-d-sseldorf/trl/runs/7566cr7e' target=\"_blank\">lucky-meadow-11</a></strong> to <a href='https://wandb.ai/dadra102-heinrich-heine-university-d-sseldorf/trl' target=\"_blank\">Weights & Biases</a> (<a href='https://wandb.me/developer-guide' target=\"_blank\">docs</a>)<br>"
      ],
      "text/plain": [
       "<IPython.core.display.HTML object>"
      ]
     },
     "metadata": {},
     "output_type": "display_data"
    },
    {
     "data": {
      "text/html": [
       " View project at <a href='https://wandb.ai/dadra102-heinrich-heine-university-d-sseldorf/trl' target=\"_blank\">https://wandb.ai/dadra102-heinrich-heine-university-d-sseldorf/trl</a>"
      ],
      "text/plain": [
       "<IPython.core.display.HTML object>"
      ]
     },
     "metadata": {},
     "output_type": "display_data"
    },
    {
     "data": {
      "text/html": [
       " View run at <a href='https://wandb.ai/dadra102-heinrich-heine-university-d-sseldorf/trl/runs/7566cr7e' target=\"_blank\">https://wandb.ai/dadra102-heinrich-heine-university-d-sseldorf/trl/runs/7566cr7e</a>"
      ],
      "text/plain": [
       "<IPython.core.display.HTML object>"
      ]
     },
     "metadata": {},
     "output_type": "display_data"
    }
   ],
   "source": [
    "config = PPOConfig(\n",
    "    model_name=model_name,\n",
    "    learning_rate=1.41e-5,\n",
    "    log_with=\"wandb\",\n",
    "    batch_size=32,\n",
    "    mini_batch_size=16\n",
    ")\n",
    "\n",
    "ppo_trainer = PPOTrainer(\n",
    "    config, model, ref_model, tokenizer, dataset=dataset, data_collator=collator\n",
    ")"
   ]
  },
  {
   "cell_type": "code",
   "execution_count": 10,
   "metadata": {
    "id": "oXQF1gKD8Xnk"
   },
   "outputs": [],
   "source": [
    "def extract_single_number_from_str(input: str) -> int | None:\n",
    "  \"\"\"\n",
    "  Extracts a number from a string.\n",
    "  If the string contains multiple or no numbers, return None.\n",
    "  \"\"\"\n",
    "  numbers_found = re.findall(r\"\\b\\d+\\b\", input)\n",
    "  if len(numbers_found) == 1:\n",
    "        return int(numbers_found[0])\n",
    "  else:\n",
    "        return None\n",
    "\n",
    "def calculate_reward(correct_num, generated_str):\n",
    "    # Allow text in response like: 'The answer is 10'\n",
    "    answer_num = extract_single_number_from_str(generated_str)\n",
    "\n",
    "    if answer_num is None:\n",
    "        return -0.5 # Small penalty for no or multiple numbers\n",
    "    else:\n",
    "        # Use a smooth reward function\n",
    "        error = float(abs(answer_num - correct_num))\n",
    "        raw_reward = 10.0 * math.exp(-0.3 * error)\n",
    "        return max(0.0, raw_reward)"
   ]
  },
  {
   "cell_type": "code",
   "execution_count": 11,
   "metadata": {
    "colab": {
     "base_uri": "https://localhost:8080/"
    },
    "id": "uTi9Ukq1Oks2",
    "outputId": "9e016a06-b9e3-4088-bd51-c3c37feb6553"
   },
   "outputs": [
    {
     "name": "stderr",
     "output_type": "stream",
     "text": [
      "  0%|          | 0/625 [00:00<?, ?it/s]The attention mask is not set and cannot be inferred from input because pad token is same as eos token. As a consequence, you may observe unexpected behavior. Please pass your input's `attention_mask` to obtain reliable results.\n",
      "  0%|          | 1/625 [00:11<1:56:30, 11.20s/it]/usr/local/lib/python3.11/dist-packages/trl/trainer/ppo_trainer.py:1246: UserWarning: The average ratio of batch (11.76) exceeds threshold 10.00. Skipping batch.\n",
      "  warnings.warn(\n",
      "/usr/local/lib/python3.11/dist-packages/trl/trainer/ppo_trainer.py:1246: UserWarning: The average ratio of batch (13.41) exceeds threshold 10.00. Skipping batch.\n",
      "  warnings.warn(\n",
      "  1%|          | 7/625 [00:50<1:03:57,  6.21s/it]/usr/local/lib/python3.11/dist-packages/trl/trainer/ppo_trainer.py:1246: UserWarning: The average ratio of batch (294.06) exceeds threshold 10.00. Skipping batch.\n",
      "  warnings.warn(\n",
      "/usr/local/lib/python3.11/dist-packages/trl/trainer/ppo_trainer.py:1246: UserWarning: The average ratio of batch (391.38) exceeds threshold 10.00. Skipping batch.\n",
      "  warnings.warn(\n",
      "/usr/local/lib/python3.11/dist-packages/trl/trainer/ppo_trainer.py:1246: UserWarning: The average ratio of batch (395.46) exceeds threshold 10.00. Skipping batch.\n",
      "  warnings.warn(\n",
      "  2%|▏         | 11/625 [01:14<1:00:30,  5.91s/it]/usr/local/lib/python3.11/dist-packages/trl/trainer/ppo_trainer.py:1246: UserWarning: The average ratio of batch (19.63) exceeds threshold 10.00. Skipping batch.\n",
      "  warnings.warn(\n",
      "/usr/local/lib/python3.11/dist-packages/trl/trainer/ppo_trainer.py:1246: UserWarning: The average ratio of batch (82.91) exceeds threshold 10.00. Skipping batch.\n",
      "  warnings.warn(\n",
      "  3%|▎         | 21/625 [02:12<59:00,  5.86s/it]/usr/local/lib/python3.11/dist-packages/trl/trainer/ppo_trainer.py:1246: UserWarning: The average ratio of batch (16.32) exceeds threshold 10.00. Skipping batch.\n",
      "  warnings.warn(\n",
      "/usr/local/lib/python3.11/dist-packages/trl/trainer/ppo_trainer.py:1246: UserWarning: The average ratio of batch (23.61) exceeds threshold 10.00. Skipping batch.\n",
      "  warnings.warn(\n",
      " 13%|█▎        | 83/625 [08:08<50:57,  5.64s/it]/usr/local/lib/python3.11/dist-packages/trl/trainer/ppo_trainer.py:1246: UserWarning: The average ratio of batch (10.02) exceeds threshold 10.00. Skipping batch.\n",
      "  warnings.warn(\n",
      " 15%|█▌        | 95/625 [09:17<49:50,  5.64s/it]/usr/local/lib/python3.11/dist-packages/trl/trainer/ppo_trainer.py:1246: UserWarning: The average ratio of batch (10.81) exceeds threshold 10.00. Skipping batch.\n",
      "  warnings.warn(\n",
      "/usr/local/lib/python3.11/dist-packages/trl/trainer/ppo_trainer.py:1246: UserWarning: The average ratio of batch (11.31) exceeds threshold 10.00. Skipping batch.\n",
      "  warnings.warn(\n",
      "/usr/local/lib/python3.11/dist-packages/trl/trainer/ppo_trainer.py:1246: UserWarning: The average ratio of batch (15.24) exceeds threshold 10.00. Skipping batch.\n",
      "  warnings.warn(\n",
      " 18%|█▊        | 112/625 [10:55<49:17,  5.77s/it]/usr/local/lib/python3.11/dist-packages/trl/trainer/ppo_trainer.py:1246: UserWarning: The average ratio of batch (26.70) exceeds threshold 10.00. Skipping batch.\n",
      "  warnings.warn(\n",
      "/usr/local/lib/python3.11/dist-packages/trl/trainer/ppo_trainer.py:1246: UserWarning: The average ratio of batch (33.91) exceeds threshold 10.00. Skipping batch.\n",
      "  warnings.warn(\n",
      " 18%|█▊        | 114/625 [11:07<48:37,  5.71s/it]/usr/local/lib/python3.11/dist-packages/trl/trainer/ppo_trainer.py:1246: UserWarning: The average ratio of batch (57.65) exceeds threshold 10.00. Skipping batch.\n",
      "  warnings.warn(\n",
      "/usr/local/lib/python3.11/dist-packages/trl/trainer/ppo_trainer.py:1246: UserWarning: The average ratio of batch (153.74) exceeds threshold 10.00. Skipping batch.\n",
      "  warnings.warn(\n",
      " 22%|██▏       | 137/625 [13:19<46:11,  5.68s/it]/usr/local/lib/python3.11/dist-packages/trl/trainer/ppo_trainer.py:1246: UserWarning: The average ratio of batch (10.62) exceeds threshold 10.00. Skipping batch.\n",
      "  warnings.warn(\n",
      "/usr/local/lib/python3.11/dist-packages/trl/trainer/ppo_trainer.py:1246: UserWarning: The average ratio of batch (18.13) exceeds threshold 10.00. Skipping batch.\n",
      "  warnings.warn(\n",
      " 23%|██▎       | 142/625 [13:47<47:02,  5.84s/it]/usr/local/lib/python3.11/dist-packages/trl/trainer/ppo_trainer.py:1246: UserWarning: The average ratio of batch (10.88) exceeds threshold 10.00. Skipping batch.\n",
      "  warnings.warn(\n",
      "/usr/local/lib/python3.11/dist-packages/trl/trainer/ppo_trainer.py:1246: UserWarning: The average ratio of batch (14.33) exceeds threshold 10.00. Skipping batch.\n",
      "  warnings.warn(\n",
      " 25%|██▌       | 158/625 [15:19<44:30,  5.72s/it]/usr/local/lib/python3.11/dist-packages/trl/trainer/ppo_trainer.py:1246: UserWarning: The average ratio of batch (140.86) exceeds threshold 10.00. Skipping batch.\n",
      "  warnings.warn(\n",
      " 26%|██▌       | 162/625 [15:42<44:25,  5.76s/it]/usr/local/lib/python3.11/dist-packages/trl/trainer/ppo_trainer.py:1246: UserWarning: The average ratio of batch (12.74) exceeds threshold 10.00. Skipping batch.\n",
      "  warnings.warn(\n",
      " 26%|██▌       | 163/625 [15:47<43:37,  5.67s/it]/usr/local/lib/python3.11/dist-packages/trl/trainer/ppo_trainer.py:1246: UserWarning: The average ratio of batch (14.71) exceeds threshold 10.00. Skipping batch.\n",
      "  warnings.warn(\n",
      "/usr/local/lib/python3.11/dist-packages/trl/trainer/ppo_trainer.py:1246: UserWarning: The average ratio of batch (183.98) exceeds threshold 10.00. Skipping batch.\n",
      "  warnings.warn(\n",
      "/usr/local/lib/python3.11/dist-packages/trl/trainer/ppo_trainer.py:1246: UserWarning: The average ratio of batch (189.11) exceeds threshold 10.00. Skipping batch.\n",
      "  warnings.warn(\n",
      " 26%|██▋       | 165/625 [15:59<43:52,  5.72s/it]/usr/local/lib/python3.11/dist-packages/trl/trainer/ppo_trainer.py:1246: UserWarning: The average ratio of batch (68.61) exceeds threshold 10.00. Skipping batch.\n",
      "  warnings.warn(\n",
      "/usr/local/lib/python3.11/dist-packages/trl/trainer/ppo_trainer.py:1246: UserWarning: The average ratio of batch (369.97) exceeds threshold 10.00. Skipping batch.\n",
      "  warnings.warn(\n",
      "/usr/local/lib/python3.11/dist-packages/trl/trainer/ppo_trainer.py:1246: UserWarning: The average ratio of batch (205.34) exceeds threshold 10.00. Skipping batch.\n",
      "  warnings.warn(\n",
      "/usr/local/lib/python3.11/dist-packages/trl/trainer/ppo_trainer.py:1246: UserWarning: The average ratio of batch (21.49) exceeds threshold 10.00. Skipping batch.\n",
      "  warnings.warn(\n",
      " 27%|██▋       | 167/625 [16:11<43:54,  5.75s/it]/usr/local/lib/python3.11/dist-packages/trl/trainer/ppo_trainer.py:1246: UserWarning: The average ratio of batch (10.42) exceeds threshold 10.00. Skipping batch.\n",
      "  warnings.warn(\n",
      "/usr/local/lib/python3.11/dist-packages/trl/trainer/ppo_trainer.py:1246: UserWarning: The average ratio of batch (15.90) exceeds threshold 10.00. Skipping batch.\n",
      "  warnings.warn(\n",
      " 28%|██▊       | 173/625 [16:45<43:18,  5.75s/it]/usr/local/lib/python3.11/dist-packages/trl/trainer/ppo_trainer.py:1246: UserWarning: The average ratio of batch (1803.05) exceeds threshold 10.00. Skipping batch.\n",
      "  warnings.warn(\n",
      "/usr/local/lib/python3.11/dist-packages/trl/trainer/ppo_trainer.py:1246: UserWarning: The average ratio of batch (9742.97) exceeds threshold 10.00. Skipping batch.\n",
      "  warnings.warn(\n",
      "/usr/local/lib/python3.11/dist-packages/trl/trainer/ppo_trainer.py:1246: UserWarning: The average ratio of batch (10452.06) exceeds threshold 10.00. Skipping batch.\n",
      "  warnings.warn(\n",
      " 29%|██▉       | 183/625 [17:43<42:05,  5.71s/it]/usr/local/lib/python3.11/dist-packages/trl/trainer/ppo_trainer.py:1246: UserWarning: The average ratio of batch (10.37) exceeds threshold 10.00. Skipping batch.\n",
      "  warnings.warn(\n",
      "/usr/local/lib/python3.11/dist-packages/trl/trainer/ppo_trainer.py:1246: UserWarning: The average ratio of batch (16.46) exceeds threshold 10.00. Skipping batch.\n",
      "  warnings.warn(\n",
      " 37%|███▋      | 231/625 [22:19<37:16,  5.68s/it]/usr/local/lib/python3.11/dist-packages/trl/trainer/ppo_trainer.py:1246: UserWarning: The average ratio of batch (11.19) exceeds threshold 10.00. Skipping batch.\n",
      "  warnings.warn(\n",
      "/usr/local/lib/python3.11/dist-packages/trl/trainer/ppo_trainer.py:1246: UserWarning: The average ratio of batch (53.84) exceeds threshold 10.00. Skipping batch.\n",
      "  warnings.warn(\n",
      " 40%|███▉      | 247/625 [23:52<36:44,  5.83s/it]/usr/local/lib/python3.11/dist-packages/trl/trainer/ppo_trainer.py:1246: UserWarning: The average ratio of batch (38.96) exceeds threshold 10.00. Skipping batch.\n",
      "  warnings.warn(\n",
      "/usr/local/lib/python3.11/dist-packages/trl/trainer/ppo_trainer.py:1246: UserWarning: The average ratio of batch (63.97) exceeds threshold 10.00. Skipping batch.\n",
      "  warnings.warn(\n",
      " 42%|████▏     | 265/625 [25:35<34:57,  5.83s/it]/usr/local/lib/python3.11/dist-packages/trl/trainer/ppo_trainer.py:1246: UserWarning: The average ratio of batch (22.45) exceeds threshold 10.00. Skipping batch.\n",
      "  warnings.warn(\n",
      "/usr/local/lib/python3.11/dist-packages/trl/trainer/ppo_trainer.py:1246: UserWarning: The average ratio of batch (26.99) exceeds threshold 10.00. Skipping batch.\n",
      "  warnings.warn(\n",
      " 44%|████▎     | 272/625 [26:15<33:15,  5.65s/it]/usr/local/lib/python3.11/dist-packages/trl/trainer/ppo_trainer.py:1246: UserWarning: The average ratio of batch (84210.46) exceeds threshold 10.00. Skipping batch.\n",
      "  warnings.warn(\n",
      "/usr/local/lib/python3.11/dist-packages/trl/trainer/ppo_trainer.py:1246: UserWarning: The average ratio of batch (90669.38) exceeds threshold 10.00. Skipping batch.\n",
      "  warnings.warn(\n",
      "/usr/local/lib/python3.11/dist-packages/trl/trainer/ppo_trainer.py:1246: UserWarning: The average ratio of batch (91811.12) exceeds threshold 10.00. Skipping batch.\n",
      "  warnings.warn(\n",
      " 44%|████▍     | 276/625 [26:38<33:52,  5.82s/it]/usr/local/lib/python3.11/dist-packages/trl/trainer/ppo_trainer.py:1246: UserWarning: The average ratio of batch (16.74) exceeds threshold 10.00. Skipping batch.\n",
      "  warnings.warn(\n",
      " 44%|████▍     | 278/625 [26:50<34:00,  5.88s/it]/usr/local/lib/python3.11/dist-packages/trl/trainer/ppo_trainer.py:1246: UserWarning: The average ratio of batch (24.23) exceeds threshold 10.00. Skipping batch.\n",
      "  warnings.warn(\n",
      "/usr/local/lib/python3.11/dist-packages/trl/trainer/ppo_trainer.py:1246: UserWarning: The average ratio of batch (25.46) exceeds threshold 10.00. Skipping batch.\n",
      "  warnings.warn(\n",
      "/usr/local/lib/python3.11/dist-packages/trl/trainer/ppo_trainer.py:1246: UserWarning: The average ratio of batch (25.11) exceeds threshold 10.00. Skipping batch.\n",
      "  warnings.warn(\n",
      " 45%|████▍     | 279/625 [26:55<33:10,  5.75s/it]/usr/local/lib/python3.11/dist-packages/trl/trainer/ppo_trainer.py:1246: UserWarning: The average ratio of batch (89.68) exceeds threshold 10.00. Skipping batch.\n",
      "  warnings.warn(\n",
      "/usr/local/lib/python3.11/dist-packages/trl/trainer/ppo_trainer.py:1246: UserWarning: The average ratio of batch (982.02) exceeds threshold 10.00. Skipping batch.\n",
      "  warnings.warn(\n",
      "/usr/local/lib/python3.11/dist-packages/trl/trainer/ppo_trainer.py:1246: UserWarning: The average ratio of batch (175081.78) exceeds threshold 10.00. Skipping batch.\n",
      "  warnings.warn(\n",
      " 45%|████▌     | 282/625 [27:12<32:10,  5.63s/it]/usr/local/lib/python3.11/dist-packages/trl/trainer/ppo_trainer.py:1246: UserWarning: The average ratio of batch (384.74) exceeds threshold 10.00. Skipping batch.\n",
      "  warnings.warn(\n",
      "/usr/local/lib/python3.11/dist-packages/trl/trainer/ppo_trainer.py:1246: UserWarning: The average ratio of batch (265.76) exceeds threshold 10.00. Skipping batch.\n",
      "  warnings.warn(\n",
      "/usr/local/lib/python3.11/dist-packages/trl/trainer/ppo_trainer.py:1246: UserWarning: The average ratio of batch (22.27) exceeds threshold 10.00. Skipping batch.\n",
      "  warnings.warn(\n",
      "/usr/local/lib/python3.11/dist-packages/trl/trainer/ppo_trainer.py:1246: UserWarning: The average ratio of batch (22.79) exceeds threshold 10.00. Skipping batch.\n",
      "  warnings.warn(\n",
      " 46%|████▌     | 286/625 [27:35<32:09,  5.69s/it]/usr/local/lib/python3.11/dist-packages/trl/trainer/ppo_trainer.py:1246: UserWarning: The average ratio of batch (14.51) exceeds threshold 10.00. Skipping batch.\n",
      "  warnings.warn(\n",
      "/usr/local/lib/python3.11/dist-packages/trl/trainer/ppo_trainer.py:1246: UserWarning: The average ratio of batch (39.94) exceeds threshold 10.00. Skipping batch.\n",
      "  warnings.warn(\n",
      " 49%|████▉     | 306/625 [29:29<29:52,  5.62s/it]/usr/local/lib/python3.11/dist-packages/trl/trainer/ppo_trainer.py:1246: UserWarning: The average ratio of batch (14.05) exceeds threshold 10.00. Skipping batch.\n",
      "  warnings.warn(\n",
      " 49%|████▉     | 309/625 [29:47<30:44,  5.84s/it]/usr/local/lib/python3.11/dist-packages/trl/trainer/ppo_trainer.py:1246: UserWarning: The average ratio of batch (10.23) exceeds threshold 10.00. Skipping batch.\n",
      "  warnings.warn(\n",
      " 50%|████▉     | 310/625 [29:52<30:01,  5.72s/it]/usr/local/lib/python3.11/dist-packages/trl/trainer/ppo_trainer.py:1246: UserWarning: The average ratio of batch (11.84) exceeds threshold 10.00. Skipping batch.\n",
      "  warnings.warn(\n",
      " 50%|█████     | 314/625 [30:15<29:25,  5.68s/it]/usr/local/lib/python3.11/dist-packages/trl/trainer/ppo_trainer.py:1246: UserWarning: The average ratio of batch (43.73) exceeds threshold 10.00. Skipping batch.\n",
      "  warnings.warn(\n",
      "/usr/local/lib/python3.11/dist-packages/trl/trainer/ppo_trainer.py:1246: UserWarning: The average ratio of batch (95.59) exceeds threshold 10.00. Skipping batch.\n",
      "  warnings.warn(\n",
      " 50%|█████     | 315/625 [30:21<29:05,  5.63s/it]/usr/local/lib/python3.11/dist-packages/trl/trainer/ppo_trainer.py:1246: UserWarning: The average ratio of batch (7497.30) exceeds threshold 10.00. Skipping batch.\n",
      "  warnings.warn(\n",
      "/usr/local/lib/python3.11/dist-packages/trl/trainer/ppo_trainer.py:1246: UserWarning: The average ratio of batch (27.32) exceeds threshold 10.00. Skipping batch.\n",
      "  warnings.warn(\n",
      "/usr/local/lib/python3.11/dist-packages/trl/trainer/ppo_trainer.py:1246: UserWarning: The average ratio of batch (27764.25) exceeds threshold 10.00. Skipping batch.\n",
      "  warnings.warn(\n",
      "/usr/local/lib/python3.11/dist-packages/trl/trainer/ppo_trainer.py:1246: UserWarning: The average ratio of batch (7252.97) exceeds threshold 10.00. Skipping batch.\n",
      "  warnings.warn(\n",
      "/usr/local/lib/python3.11/dist-packages/trl/trainer/ppo_trainer.py:1246: UserWarning: The average ratio of batch (26939.99) exceeds threshold 10.00. Skipping batch.\n",
      "  warnings.warn(\n",
      " 52%|█████▏    | 323/625 [31:07<28:45,  5.71s/it]/usr/local/lib/python3.11/dist-packages/trl/trainer/ppo_trainer.py:1246: UserWarning: The average ratio of batch (13.88) exceeds threshold 10.00. Skipping batch.\n",
      "  warnings.warn(\n",
      " 54%|█████▍    | 337/625 [32:26<26:50,  5.59s/it]/usr/local/lib/python3.11/dist-packages/trl/trainer/ppo_trainer.py:1246: UserWarning: The average ratio of batch (58.40) exceeds threshold 10.00. Skipping batch.\n",
      "  warnings.warn(\n",
      "/usr/local/lib/python3.11/dist-packages/trl/trainer/ppo_trainer.py:1246: UserWarning: The average ratio of batch (3400.74) exceeds threshold 10.00. Skipping batch.\n",
      "  warnings.warn(\n",
      " 56%|█████▌    | 349/625 [33:35<26:23,  5.74s/it]/usr/local/lib/python3.11/dist-packages/trl/trainer/ppo_trainer.py:1246: UserWarning: The average ratio of batch (39.86) exceeds threshold 10.00. Skipping batch.\n",
      "  warnings.warn(\n",
      "/usr/local/lib/python3.11/dist-packages/trl/trainer/ppo_trainer.py:1246: UserWarning: The average ratio of batch (558.01) exceeds threshold 10.00. Skipping batch.\n",
      "  warnings.warn(\n",
      "/usr/local/lib/python3.11/dist-packages/trl/trainer/ppo_trainer.py:1246: UserWarning: The average ratio of batch (3240.38) exceeds threshold 10.00. Skipping batch.\n",
      "  warnings.warn(\n",
      " 56%|█████▌    | 350/625 [33:41<25:55,  5.66s/it]/usr/local/lib/python3.11/dist-packages/trl/trainer/ppo_trainer.py:1246: UserWarning: The average ratio of batch (27.41) exceeds threshold 10.00. Skipping batch.\n",
      "  warnings.warn(\n",
      " 57%|█████▋    | 354/625 [34:04<25:40,  5.69s/it]/usr/local/lib/python3.11/dist-packages/trl/trainer/ppo_trainer.py:1246: UserWarning: The average ratio of batch (47.77) exceeds threshold 10.00. Skipping batch.\n",
      "  warnings.warn(\n",
      "/usr/local/lib/python3.11/dist-packages/trl/trainer/ppo_trainer.py:1246: UserWarning: The average ratio of batch (252.93) exceeds threshold 10.00. Skipping batch.\n",
      "  warnings.warn(\n",
      " 59%|█████▉    | 371/625 [35:40<24:40,  5.83s/it]/usr/local/lib/python3.11/dist-packages/trl/trainer/ppo_trainer.py:1246: UserWarning: The average ratio of batch (10.39) exceeds threshold 10.00. Skipping batch.\n",
      "  warnings.warn(\n",
      " 60%|██████    | 376/625 [36:08<22:57,  5.53s/it]/usr/local/lib/python3.11/dist-packages/trl/trainer/ppo_trainer.py:1246: UserWarning: The average ratio of batch (20.04) exceeds threshold 10.00. Skipping batch.\n",
      "  warnings.warn(\n",
      " 63%|██████▎   | 393/625 [37:45<22:22,  5.79s/it]/usr/local/lib/python3.11/dist-packages/trl/trainer/ppo_trainer.py:1246: UserWarning: The average ratio of batch (14.01) exceeds threshold 10.00. Skipping batch.\n",
      "  warnings.warn(\n",
      "/usr/local/lib/python3.11/dist-packages/trl/trainer/ppo_trainer.py:1246: UserWarning: The average ratio of batch (18.29) exceeds threshold 10.00. Skipping batch.\n",
      "  warnings.warn(\n",
      "/usr/local/lib/python3.11/dist-packages/trl/trainer/ppo_trainer.py:1246: UserWarning: The average ratio of batch (74.21) exceeds threshold 10.00. Skipping batch.\n",
      "  warnings.warn(\n",
      " 63%|██████▎   | 394/625 [37:51<21:52,  5.68s/it]/usr/local/lib/python3.11/dist-packages/trl/trainer/ppo_trainer.py:1246: UserWarning: The average ratio of batch (667.08) exceeds threshold 10.00. Skipping batch.\n",
      "  warnings.warn(\n",
      "/usr/local/lib/python3.11/dist-packages/trl/trainer/ppo_trainer.py:1246: UserWarning: The average ratio of batch (3918.67) exceeds threshold 10.00. Skipping batch.\n",
      "  warnings.warn(\n",
      " 64%|██████▎   | 398/625 [38:13<21:31,  5.69s/it]/usr/local/lib/python3.11/dist-packages/trl/trainer/ppo_trainer.py:1246: UserWarning: The average ratio of batch (346.89) exceeds threshold 10.00. Skipping batch.\n",
      "  warnings.warn(\n",
      "/usr/local/lib/python3.11/dist-packages/trl/trainer/ppo_trainer.py:1246: UserWarning: The average ratio of batch (367.45) exceeds threshold 10.00. Skipping batch.\n",
      "  warnings.warn(\n",
      "/usr/local/lib/python3.11/dist-packages/trl/trainer/ppo_trainer.py:1246: UserWarning: The average ratio of batch (535.78) exceeds threshold 10.00. Skipping batch.\n",
      "  warnings.warn(\n",
      "/usr/local/lib/python3.11/dist-packages/trl/trainer/ppo_trainer.py:1246: UserWarning: The average ratio of batch (772.22) exceeds threshold 10.00. Skipping batch.\n",
      "  warnings.warn(\n",
      "/usr/local/lib/python3.11/dist-packages/trl/trainer/ppo_trainer.py:1246: UserWarning: The average ratio of batch (536.60) exceeds threshold 10.00. Skipping batch.\n",
      "  warnings.warn(\n",
      "/usr/local/lib/python3.11/dist-packages/trl/trainer/ppo_trainer.py:1246: UserWarning: The average ratio of batch (778.81) exceeds threshold 10.00. Skipping batch.\n",
      "  warnings.warn(\n",
      " 70%|███████   | 439/625 [42:08<17:30,  5.65s/it]/usr/local/lib/python3.11/dist-packages/trl/trainer/ppo_trainer.py:1246: UserWarning: The average ratio of batch (18.21) exceeds threshold 10.00. Skipping batch.\n",
      "  warnings.warn(\n",
      " 71%|███████   | 442/625 [42:25<17:32,  5.75s/it]/usr/local/lib/python3.11/dist-packages/trl/trainer/ppo_trainer.py:1246: UserWarning: The average ratio of batch (25.35) exceeds threshold 10.00. Skipping batch.\n",
      "  warnings.warn(\n",
      " 72%|███████▏  | 448/625 [43:00<16:57,  5.75s/it]/usr/local/lib/python3.11/dist-packages/trl/trainer/ppo_trainer.py:1246: UserWarning: The average ratio of batch (76.10) exceeds threshold 10.00. Skipping batch.\n",
      "  warnings.warn(\n",
      "/usr/local/lib/python3.11/dist-packages/trl/trainer/ppo_trainer.py:1246: UserWarning: The average ratio of batch (75.82) exceeds threshold 10.00. Skipping batch.\n",
      "  warnings.warn(\n",
      "/usr/local/lib/python3.11/dist-packages/trl/trainer/ppo_trainer.py:1246: UserWarning: The average ratio of batch (75.15) exceeds threshold 10.00. Skipping batch.\n",
      "  warnings.warn(\n",
      " 72%|███████▏  | 451/625 [43:17<16:22,  5.65s/it]/usr/local/lib/python3.11/dist-packages/trl/trainer/ppo_trainer.py:1246: UserWarning: The average ratio of batch (91.24) exceeds threshold 10.00. Skipping batch.\n",
      "  warnings.warn(\n",
      "/usr/local/lib/python3.11/dist-packages/trl/trainer/ppo_trainer.py:1246: UserWarning: The average ratio of batch (2912.21) exceeds threshold 10.00. Skipping batch.\n",
      "  warnings.warn(\n",
      " 74%|███████▍  | 461/625 [44:14<15:24,  5.64s/it]/usr/local/lib/python3.11/dist-packages/trl/trainer/ppo_trainer.py:1246: UserWarning: The average ratio of batch (11955.50) exceeds threshold 10.00. Skipping batch.\n",
      "  warnings.warn(\n",
      "/usr/local/lib/python3.11/dist-packages/trl/trainer/ppo_trainer.py:1246: UserWarning: The average ratio of batch (12335.69) exceeds threshold 10.00. Skipping batch.\n",
      "  warnings.warn(\n",
      "/usr/local/lib/python3.11/dist-packages/trl/trainer/ppo_trainer.py:1246: UserWarning: The average ratio of batch (16.04) exceeds threshold 10.00. Skipping batch.\n",
      "  warnings.warn(\n",
      "/usr/local/lib/python3.11/dist-packages/trl/trainer/ppo_trainer.py:1246: UserWarning: The average ratio of batch (12308.59) exceeds threshold 10.00. Skipping batch.\n",
      "  warnings.warn(\n",
      " 75%|███████▌  | 469/625 [45:00<14:58,  5.76s/it]/usr/local/lib/python3.11/dist-packages/trl/trainer/ppo_trainer.py:1246: UserWarning: The average ratio of batch (15.77) exceeds threshold 10.00. Skipping batch.\n",
      "  warnings.warn(\n",
      " 76%|███████▌  | 474/625 [45:28<14:11,  5.64s/it]/usr/local/lib/python3.11/dist-packages/trl/trainer/ppo_trainer.py:1246: UserWarning: The average ratio of batch (24.91) exceeds threshold 10.00. Skipping batch.\n",
      "  warnings.warn(\n",
      "/usr/local/lib/python3.11/dist-packages/trl/trainer/ppo_trainer.py:1246: UserWarning: The average ratio of batch (726.78) exceeds threshold 10.00. Skipping batch.\n",
      "  warnings.warn(\n",
      " 77%|███████▋  | 480/625 [46:04<13:57,  5.77s/it]/usr/local/lib/python3.11/dist-packages/trl/trainer/ppo_trainer.py:1246: UserWarning: The average ratio of batch (31.29) exceeds threshold 10.00. Skipping batch.\n",
      "  warnings.warn(\n",
      " 77%|███████▋  | 484/625 [46:26<13:27,  5.73s/it]/usr/local/lib/python3.11/dist-packages/trl/trainer/ppo_trainer.py:1246: UserWarning: The average ratio of batch (11.05) exceeds threshold 10.00. Skipping batch.\n",
      "  warnings.warn(\n",
      "/usr/local/lib/python3.11/dist-packages/trl/trainer/ppo_trainer.py:1246: UserWarning: The average ratio of batch (10.28) exceeds threshold 10.00. Skipping batch.\n",
      "  warnings.warn(\n",
      " 78%|███████▊  | 486/625 [46:38<13:26,  5.80s/it]/usr/local/lib/python3.11/dist-packages/trl/trainer/ppo_trainer.py:1246: UserWarning: The average ratio of batch (15.38) exceeds threshold 10.00. Skipping batch.\n",
      "  warnings.warn(\n",
      " 81%|████████▏ | 508/625 [48:45<11:10,  5.73s/it]/usr/local/lib/python3.11/dist-packages/trl/trainer/ppo_trainer.py:1246: UserWarning: The average ratio of batch (26.69) exceeds threshold 10.00. Skipping batch.\n",
      "  warnings.warn(\n",
      " 82%|████████▏ | 515/625 [49:25<10:30,  5.73s/it]/usr/local/lib/python3.11/dist-packages/trl/trainer/ppo_trainer.py:1246: UserWarning: The average ratio of batch (37.42) exceeds threshold 10.00. Skipping batch.\n",
      "  warnings.warn(\n",
      "/usr/local/lib/python3.11/dist-packages/trl/trainer/ppo_trainer.py:1246: UserWarning: The average ratio of batch (44.70) exceeds threshold 10.00. Skipping batch.\n",
      "  warnings.warn(\n",
      "/usr/local/lib/python3.11/dist-packages/trl/trainer/ppo_trainer.py:1246: UserWarning: The average ratio of batch (21.86) exceeds threshold 10.00. Skipping batch.\n",
      "  warnings.warn(\n",
      " 84%|████████▍ | 525/625 [50:23<09:45,  5.86s/it]/usr/local/lib/python3.11/dist-packages/trl/trainer/ppo_trainer.py:1246: UserWarning: The average ratio of batch (58.89) exceeds threshold 10.00. Skipping batch.\n",
      "  warnings.warn(\n",
      " 85%|████████▍ | 531/625 [50:57<08:54,  5.69s/it]/usr/local/lib/python3.11/dist-packages/trl/trainer/ppo_trainer.py:1246: UserWarning: The average ratio of batch (262.75) exceeds threshold 10.00. Skipping batch.\n",
      "  warnings.warn(\n",
      "/usr/local/lib/python3.11/dist-packages/trl/trainer/ppo_trainer.py:1246: UserWarning: The average ratio of batch (3353.91) exceeds threshold 10.00. Skipping batch.\n",
      "  warnings.warn(\n",
      " 89%|████████▉ | 556/625 [53:21<06:40,  5.80s/it]/usr/local/lib/python3.11/dist-packages/trl/trainer/ppo_trainer.py:1246: UserWarning: The average ratio of batch (192.22) exceeds threshold 10.00. Skipping batch.\n",
      "  warnings.warn(\n",
      "/usr/local/lib/python3.11/dist-packages/trl/trainer/ppo_trainer.py:1246: UserWarning: The average ratio of batch (192.59) exceeds threshold 10.00. Skipping batch.\n",
      "  warnings.warn(\n",
      "/usr/local/lib/python3.11/dist-packages/trl/trainer/ppo_trainer.py:1246: UserWarning: The average ratio of batch (192.48) exceeds threshold 10.00. Skipping batch.\n",
      "  warnings.warn(\n",
      " 90%|████████▉ | 561/625 [53:49<05:59,  5.62s/it]/usr/local/lib/python3.11/dist-packages/trl/trainer/ppo_trainer.py:1246: UserWarning: The average ratio of batch (13.14) exceeds threshold 10.00. Skipping batch.\n",
      "  warnings.warn(\n",
      " 90%|█████████ | 563/625 [54:01<05:51,  5.66s/it]/usr/local/lib/python3.11/dist-packages/trl/trainer/ppo_trainer.py:1246: UserWarning: The average ratio of batch (18.91) exceeds threshold 10.00. Skipping batch.\n",
      "  warnings.warn(\n",
      " 92%|█████████▏| 574/625 [55:03<04:54,  5.77s/it]/usr/local/lib/python3.11/dist-packages/trl/trainer/ppo_trainer.py:1246: UserWarning: The average ratio of batch (477.01) exceeds threshold 10.00. Skipping batch.\n",
      "  warnings.warn(\n",
      "/usr/local/lib/python3.11/dist-packages/trl/trainer/ppo_trainer.py:1246: UserWarning: The average ratio of batch (75.04) exceeds threshold 10.00. Skipping batch.\n",
      "  warnings.warn(\n",
      "/usr/local/lib/python3.11/dist-packages/trl/trainer/ppo_trainer.py:1246: UserWarning: The average ratio of batch (2721.66) exceeds threshold 10.00. Skipping batch.\n",
      "  warnings.warn(\n",
      "/usr/local/lib/python3.11/dist-packages/trl/trainer/ppo_trainer.py:1246: UserWarning: The average ratio of batch (285.02) exceeds threshold 10.00. Skipping batch.\n",
      "  warnings.warn(\n",
      "/usr/local/lib/python3.11/dist-packages/trl/trainer/ppo_trainer.py:1246: UserWarning: The average ratio of batch (4166.57) exceeds threshold 10.00. Skipping batch.\n",
      "  warnings.warn(\n",
      " 92%|█████████▏| 578/625 [55:26<04:29,  5.74s/it]/usr/local/lib/python3.11/dist-packages/trl/trainer/ppo_trainer.py:1246: UserWarning: The average ratio of batch (573.86) exceeds threshold 10.00. Skipping batch.\n",
      "  warnings.warn(\n",
      "/usr/local/lib/python3.11/dist-packages/trl/trainer/ppo_trainer.py:1246: UserWarning: The average ratio of batch (197.44) exceeds threshold 10.00. Skipping batch.\n",
      "  warnings.warn(\n",
      " 96%|█████████▌| 600/625 [57:31<02:22,  5.69s/it]/usr/local/lib/python3.11/dist-packages/trl/trainer/ppo_trainer.py:1246: UserWarning: The average ratio of batch (27.00) exceeds threshold 10.00. Skipping batch.\n",
      "  warnings.warn(\n",
      "/usr/local/lib/python3.11/dist-packages/trl/trainer/ppo_trainer.py:1246: UserWarning: The average ratio of batch (62.84) exceeds threshold 10.00. Skipping batch.\n",
      "  warnings.warn(\n",
      " 97%|█████████▋| 605/625 [58:00<01:55,  5.78s/it]/usr/local/lib/python3.11/dist-packages/trl/trainer/ppo_trainer.py:1246: UserWarning: The average ratio of batch (10.75) exceeds threshold 10.00. Skipping batch.\n",
      "  warnings.warn(\n",
      "/usr/local/lib/python3.11/dist-packages/trl/trainer/ppo_trainer.py:1246: UserWarning: The average ratio of batch (91.05) exceeds threshold 10.00. Skipping batch.\n",
      "  warnings.warn(\n",
      "/usr/local/lib/python3.11/dist-packages/trl/trainer/ppo_trainer.py:1246: UserWarning: The average ratio of batch (78.51) exceeds threshold 10.00. Skipping batch.\n",
      "  warnings.warn(\n",
      " 98%|█████████▊| 615/625 [58:56<00:56,  5.62s/it]/usr/local/lib/python3.11/dist-packages/trl/trainer/ppo_trainer.py:1246: UserWarning: The average ratio of batch (64.35) exceeds threshold 10.00. Skipping batch.\n",
      "  warnings.warn(\n",
      " 99%|█████████▉| 618/625 [59:14<00:40,  5.85s/it]/usr/local/lib/python3.11/dist-packages/trl/trainer/ppo_trainer.py:1246: UserWarning: The average ratio of batch (14.02) exceeds threshold 10.00. Skipping batch.\n",
      "  warnings.warn(\n",
      "100%|██████████| 625/625 [59:53<00:00,  5.75s/it]\n"
     ]
    }
   ],
   "source": [
    "generation_kwargs = {\n",
    "    \"min_length\": -1,\n",
    "    \"top_k\": 0.0,\n",
    "    \"top_p\": 1.0,\n",
    "    \"do_sample\": True,\n",
    "    \"pad_token_id\": tokenizer.eos_token_id,\n",
    "    \"max_new_tokens\": 10,\n",
    "}\n",
    "\n",
    "mean_rewards = []\n",
    "for epoch, batch in enumerate(tqdm(ppo_trainer.dataloader)):\n",
    "    query_tensors = batch[\"input_ids\"]\n",
    "\n",
    "    #### Get response from gpt2\n",
    "    response_tensors = []\n",
    "    for query in query_tensors:\n",
    "        gen_len = 5\n",
    "        generation_kwargs[\"max_new_tokens\"] = gen_len\n",
    "\n",
    "        query_response = ppo_trainer.generate(query, **generation_kwargs).squeeze()\n",
    "\n",
    "        response_len = len(query_response) - len(query)\n",
    "        response_tensors.append(query_response[-response_len:])\n",
    "\n",
    "    batch[\"response\"] = [tokenizer.decode(r.squeeze()) for r in response_tensors]\n",
    "\n",
    "    # Calculate rewards\n",
    "    rewards = []\n",
    "    for i in range(len(batch[\"query\"])): # Iterate through each sample in the batch\n",
    "        correct_num = int(batch[\"answer_str\"][i])\n",
    "        generated_output_str = batch[\"response\"][i]\n",
    "        current_reward_val = calculate_reward(correct_num, generated_output_str)\n",
    "        rewards.append(torch.tensor(current_reward_val, dtype=torch.float, device=ppo_trainer.accelerator.device))\n",
    "\n",
    "    #### Run PPO step\n",
    "    stats = ppo_trainer.step(query_tensors, response_tensors, rewards)\n",
    "    #### Logging\n",
    "    ppo_trainer.log_stats(stats, batch, rewards)\n",
    "    mean_rewards.append(torch.mean(torch.stack(rewards)).item())"
   ]
  },
  {
   "cell_type": "markdown",
   "metadata": {
    "id": "edLjJnCfH5kn"
   },
   "source": [
    "## Visualization"
   ]
  },
  {
   "cell_type": "markdown",
   "metadata": {},
   "source": [
    "It was not quite there yet, but I ran out of compute on Google Colab. Here is an image from wandb:\n",
    "\n",
    "<img src=\"https://drive.google.com/uc?id=1Ewoirnf0n2VWylbqsHVkny0CFzVSy-kc\">"
   ]
  },
  {
   "cell_type": "code",
   "execution_count": null,
   "metadata": {},
   "outputs": [],
   "source": [
    "import matplotlib.pyplot as plt\n",
    "plt.figure(figsize=(12, 6))\n",
    "plt.plot(mean_rewards, label=\"Mean Reward per Batch\")\n",
    "plt.xlabel(\"Training Steps (Batches)\")\n",
    "plt.ylabel(\"Mean Reward\")\n",
    "plt.title(\"Mean Reward During PPO Training\")\n",
    "plt.legend()\n",
    "plt.grid(True)\n",
    "plt.show()"
   ]
  },
  {
   "cell_type": "code",
   "execution_count": 12,
   "metadata": {
    "colab": {
     "base_uri": "https://localhost:8080/"
    },
    "id": "6vShfS6eAPUn",
    "outputId": "c0439231-3524-408d-da01-1020304e513f"
   },
   "outputs": [
    {
     "name": "stdout",
     "output_type": "stream",
     "text": [
      "Prompt: 10 + 5 = \n",
      "Generated: 16 of the way to the previous exhaust port\n",
      "--------------------\n",
      "Prompt: 25 + 30 = \n",
      "Generated: 56\n",
      "Evaluation sample, it should\n",
      "--------------------\n",
      "Prompt: 7 + 88 = \n",
      "Generated: 15\n",
      "If you have done your calculations,\n",
      "--------------------\n",
      "Prompt: 50 + 49 = \n",
      "Generated: 94% of the world's Shar校\n",
      "--------------------\n",
      "Prompt: 1 + 1 = \n",
      "Generated: 2. In the N +1, it\n",
      "--------------------\n"
     ]
    }
   ],
   "source": [
    "model.eval()\n",
    "\n",
    "test_prompts = [\n",
    "    \"10 + 5 = \",\n",
    "    \"25 + 30 = \",\n",
    "    \"7 + 88 = \",\n",
    "    \"50 + 49 = \",\n",
    "    \"1 + 1 = \"\n",
    "]\n",
    "\n",
    "inference_generation_kwargs = {\n",
    "    \"min_length\": -1,\n",
    "    \"top_k\": 0.0,\n",
    "    \"top_p\": 1.0,\n",
    "    \"do_sample\": True,\n",
    "    \"pad_token_id\": tokenizer.eos_token_id,\n",
    "    \"max_new_tokens\": 10,\n",
    "}\n",
    "\n",
    "with torch.no_grad():\n",
    "    for prompt_text in test_prompts:\n",
    "        print(f\"Prompt: {prompt_text}\")\n",
    "\n",
    "        input_ids = tokenizer.encode(prompt_text, return_tensors=\"pt\").to(device)\n",
    "\n",
    "        output_sequences = model.generate(\n",
    "            input_ids=input_ids,\n",
    "            **inference_generation_kwargs\n",
    "        )\n",
    "\n",
    "        generated_text_full = tokenizer.decode(output_sequences[0], skip_special_tokens=True)\n",
    "\n",
    "        generated_text_answer_only = generated_text_full[len(prompt_text):]\n",
    "\n",
    "        print(f\"Generated: {generated_text_answer_only.strip()}\")\n",
    "        print(\"-\" * 20)"
   ]
  }
 ],
 "metadata": {
  "accelerator": "GPU",
  "colab": {
   "gpuType": "T4",
   "provenance": []
  },
  "kernelspec": {
   "display_name": "Python 3 (ipykernel)",
   "language": "python",
   "name": "python3"
  },
  "language_info": {
   "codemirror_mode": {
    "name": "ipython",
    "version": 3
   },
   "file_extension": ".py",
   "mimetype": "text/x-python",
   "name": "python",
   "nbconvert_exporter": "python",
   "pygments_lexer": "ipython3",
   "version": "3.13.3"
  }
 },
 "nbformat": 4,
 "nbformat_minor": 4
}
