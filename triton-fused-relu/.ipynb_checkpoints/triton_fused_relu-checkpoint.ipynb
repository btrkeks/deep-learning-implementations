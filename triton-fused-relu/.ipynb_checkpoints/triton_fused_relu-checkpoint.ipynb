{
 "cells": [
  {
   "cell_type": "markdown",
   "metadata": {
    "id": "tNiN1Vftq2qZ"
   },
   "source": [
    "## Task Description\n",
    "\n",
    "Write a custom fused ReLU class for 2D tensors, that implements **vector addition and ReLU**, with the **forward** pass. Then write a fused ReLU Triton kernel for 2D tensors that performs the **vector addition and ReLU** with the **forward** pass and computes its matching **backward** pass. Verify that both implementations produce the same outputs and gradients on random inputs and write a benchmark test with 'triton.testing' to showcase the efficiency of Triton in comparison to Torch. And you should look into **PyTorch's JIT** to make your pytorch implementation more efficient."
   ]
  },
  {
   "cell_type": "markdown",
   "metadata": {
    "id": "abOlpATGq2qb"
   },
   "source": [
    "## Code"
   ]
  },
  {
   "cell_type": "code",
   "execution_count": 1,
   "metadata": {
    "id": "7_u2od9bODIg"
   },
   "outputs": [],
   "source": [
    "import torch\n",
    "import torch.nn as nn\n",
    "import torch.nn.functional as F\n",
    "import triton.language as tl\n",
    "import triton\n",
    "import triton.testing"
   ]
  },
  {
   "cell_type": "code",
   "execution_count": 2,
   "metadata": {
    "id": "hfe3O1aIiROb"
   },
   "outputs": [],
   "source": [
    "DEVICE = \"cuda\""
   ]
  },
  {
   "cell_type": "markdown",
   "metadata": {
    "id": "pGZOnb8jq2qf"
   },
   "source": [
    "### 1. Implementation of the forward pass for the fused ReLU with PyTorch"
   ]
  },
  {
   "cell_type": "code",
   "execution_count": 3,
   "metadata": {
    "id": "oItcHU8iq2qg"
   },
   "outputs": [],
   "source": [
    "class FusedAddReLU(nn.Module):\n",
    "    def forward(self, x: torch.Tensor, y: torch.Tensor) -> torch.Tensor:\n",
    "        return F.relu(x + y)\n",
    "torchModel = torch.jit.script(FusedAddReLU())"
   ]
  },
  {
   "cell_type": "markdown",
   "metadata": {
    "id": "n4O70707q2qg"
   },
   "source": [
    "### 2. Implementation of the forward & backward pass for the fused ReLU with Triton"
   ]
  },
  {
   "cell_type": "code",
   "execution_count": 4,
   "metadata": {
    "id": "Zm8eY07Cq2qh"
   },
   "outputs": [],
   "source": [
    "@triton.jit\n",
    "def _add_relu_fwd(x_ptr,\n",
    "               y_ptr,\n",
    "               output_ptr,\n",
    "               n_elements,\n",
    "               BLOCK_SIZE: tl.constexpr,\n",
    "               ):\n",
    "    pid = tl.program_id(axis=0)\n",
    "    block_start = pid * BLOCK_SIZE\n",
    "    offsets = block_start + tl.arange(0, BLOCK_SIZE)\n",
    "    mask = offsets < n_elements\n",
    "\n",
    "    x = tl.load(x_ptr + offsets, mask=mask)\n",
    "    y = tl.load(y_ptr + offsets, mask=mask)\n",
    "\n",
    "    summed = x + y\n",
    "    relued = tl.maximum(summed, 0.0)\n",
    "\n",
    "    tl.store(output_ptr + offsets, relued, mask=mask)\n",
    "\n",
    "@triton.jit\n",
    "def _add_relu_bwd(O_ptr,\n",
    "                  dO_ptr,\n",
    "                  dx_ptr,\n",
    "                  dy_ptr,\n",
    "                  n_elements,\n",
    "                  BLOCK_SIZE: tl.constexpr,\n",
    "):\n",
    "    pid = tl.program_id(axis=0)\n",
    "    block_start = pid * BLOCK_SIZE\n",
    "    offsets = block_start + tl.arange(0, BLOCK_SIZE)\n",
    "    mask = offsets < n_elements\n",
    "\n",
    "    O = tl.load(O_ptr + offsets, mask=mask)\n",
    "    dO = tl.load(dO_ptr + offsets, mask=mask)\n",
    "\n",
    "    relu_mask = O > 0\n",
    "    dx = dO * relu_mask\n",
    "    dy = dx\n",
    "\n",
    "    tl.store(dx_ptr + offsets, dx, mask=mask)\n",
    "    tl.store(dy_ptr + offsets, dy, mask=mask)"
   ]
  },
  {
   "cell_type": "code",
   "execution_count": 5,
   "metadata": {
    "id": "8xR2unhinf_X"
   },
   "outputs": [],
   "source": [
    "class TritonAddReLU(torch.autograd.Function):\n",
    "\n",
    "    @staticmethod\n",
    "    def forward(ctx, x: torch.Tensor, y: torch.Tensor) -> torch.Tensor:\n",
    "      x = x.to(device='cuda')\n",
    "      y = y.to(device='cuda')\n",
    "\n",
    "      O = torch.empty_like(x)\n",
    "      n_elements = O.numel()\n",
    "\n",
    "      grid = lambda meta: (triton.cdiv(n_elements, meta['BLOCK_SIZE']), )\n",
    "      _add_relu_fwd[grid](x, y, O, n_elements, BLOCK_SIZE=512)\n",
    "\n",
    "      ctx.save_for_backward(O)\n",
    "\n",
    "      return O\n",
    "\n",
    "    @staticmethod\n",
    "    def backward(ctx, dO):\n",
    "        O, = ctx.saved_tensors\n",
    "\n",
    "        assert dO.is_contiguous()\n",
    "\n",
    "        dx = torch.empty_like(dO)\n",
    "        dy = torch.empty_like(dO)\n",
    "\n",
    "        n_elements = dO.numel()\n",
    "\n",
    "        grid = lambda meta: (triton.cdiv(n_elements, meta['BLOCK_SIZE']), )\n",
    "        _add_relu_bwd[grid](O, dO, dx, dy, n_elements, BLOCK_SIZE=128)\n",
    "\n",
    "        return dx, dy\n",
    "\n",
    "tritonFn = TritonAddReLU.apply"
   ]
  },
  {
   "cell_type": "markdown",
   "metadata": {
    "id": "Z9ZjjyyQq2qi"
   },
   "source": [
    "### 3. Verify outputs & benchmark test"
   ]
  },
  {
   "cell_type": "code",
   "execution_count": 6,
   "metadata": {
    "id": "hKH2aSZuq2qi"
   },
   "outputs": [],
   "source": [
    "# Benchmark\n",
    "@triton.testing.perf_report(\n",
    "    triton.testing.Benchmark(\n",
    "        x_names=['size'],  # Argument names to use as an x-axis for the plot.\n",
    "        x_vals=[2**i for i in range(12, 28, 1)],  # Different possible values for `x_name`.\n",
    "        x_log=True,  # x axis is logarithmic.\n",
    "        line_arg='provider',  # Argument name whose value corresponds to a different line in the plot.\n",
    "        line_vals=['triton', 'torch'],  # Possible values for `line_arg`.\n",
    "        line_names=['Triton', 'Torch (JIT)'],  # Label name for the lines.\n",
    "        styles=[('blue', '-'), ('green', '-')],  # Line styles.\n",
    "        ylabel='GB/s',  # Label name for the y-axis.\n",
    "        plot_name='vector-add-relu-performance',\n",
    "        args={},  # Values for function arguments not in `x_names` and `y_name`.\n",
    "    ))\n",
    "def benchmark(size, provider):\n",
    "    x = torch.rand(size, device='cuda', dtype=torch.float32)\n",
    "    y = torch.rand(size, device='cuda', dtype=torch.float32)\n",
    "    quantiles = [0.5, 0.2, 0.8]\n",
    "    if provider == 'torch':\n",
    "        ms, min_ms, max_ms = triton.testing.do_bench(lambda: torchModel(x,y), quantiles=quantiles)\n",
    "    if provider == 'triton':\n",
    "        ms, min_ms, max_ms = triton.testing.do_bench(lambda: tritonFn(x, y), quantiles=quantiles)\n",
    "    gbps = lambda ms: 3 * x.numel() * x.element_size() * 1e-9 / (ms * 1e-3)\n",
    "    return gbps(ms), gbps(max_ms), gbps(min_ms)"
   ]
  },
  {
   "cell_type": "code",
   "execution_count": 7,
   "metadata": {
    "colab": {
     "base_uri": "https://localhost:8080/",
     "height": 766
    },
    "id": "j3FUXZenq2qj",
    "outputId": "e43eed73-d9f9-4bda-d122-2e21d574ce6a"
   },
   "outputs": [
    {
     "data": {
      "image/png": "[encoded data removed]",
      "text/plain": [
       "<Figure size 640x480 with 1 Axes>"
      ]
     },
     "metadata": {},
     "output_type": "display_data"
    },
    {
     "name": "stdout",
     "output_type": "stream",
     "text": [
      "vector-add-relu-performance:\n",
      "           size      Triton  Torch (JIT)\n",
      "0        4096.0    7.331742     7.279621\n",
      "1        8192.0   14.388759    15.593909\n",
      "2       16384.0   31.999999    31.999999\n",
      "3       32768.0   57.420561    57.962264\n",
      "4       65536.0  104.135590   101.344331\n",
      "5      131072.0  152.173381   150.082447\n",
      "6      262144.0  179.879241   189.959427\n",
      "7      524288.0  194.854311   214.169933\n",
      "8     1048576.0  221.530139   233.917907\n",
      "9     2097152.0  231.849058   243.364396\n",
      "10    4194304.0  238.601945   250.775518\n",
      "11    8388608.0  240.673893   254.622048\n",
      "12   16777216.0  242.725927   255.999991\n",
      "13   33554432.0  244.044067   258.007812\n",
      "14   67108864.0  244.838275   258.865036\n",
      "15  134217728.0  246.088031   260.258488\n"
     ]
    }
   ],
   "source": [
    "benchmark.run(print_data=True, show_plots=True)"
   ]
  },
  {
   "cell_type": "code",
   "execution_count": 8,
   "metadata": {
    "id": "ZKJHVMuEzf7n"
   },
   "outputs": [],
   "source": [
    "# Verify Outputs\n",
    "tensor_shape = (2048, 4096)\n",
    "x_triton = torch.randn(tensor_shape, device=DEVICE, dtype=torch.float32, requires_grad=True)\n",
    "y_triton = torch.randn(tensor_shape, device=DEVICE, dtype=torch.float32, requires_grad=True)\n",
    "\n",
    "x_torch = x_triton.detach().clone().requires_grad_(True)\n",
    "y_torch = y_triton.detach().clone().requires_grad_(True)\n",
    "\n",
    "grad_output = torch.randn(tensor_shape, device=DEVICE, dtype=torch.float32)\n",
    "\n",
    "# --- Run Triton Path ---\n",
    "output_triton = tritonFn(x_triton, y_triton)\n",
    "output_triton.backward(grad_output)\n",
    "dx_triton = x_triton.grad\n",
    "dy_triton = y_triton.grad\n",
    "\n",
    "# --- Run PyTorch Path ---\n",
    "output_torch = torchModel(x_torch, y_torch)\n",
    "output_torch.backward(grad_output)\n",
    "dx_torch = x_torch.grad\n",
    "dy_torch = y_torch.grad\n",
    "\n",
    "# Check forward pass\n",
    "assert torch.allclose(output_triton, output_torch, atol=1e-6, rtol=1e-5)\n",
    "\n",
    "# Check gradients\n",
    "assert torch.allclose(dx_triton, dx_torch, atol=1e-6, rtol=1e-5)\n",
    "assert torch.allclose(dy_triton, dy_torch, atol=1e-6, rtol=1e-5)"
   ]
  }
 ],
 "metadata": {
  "accelerator": "GPU",
  "colab": {
   "gpuType": "T4",
   "provenance": []
  },
  "kernelspec": {
   "display_name": "Python 3 (ipykernel)",
   "language": "python",
   "name": "python3"
  },
  "language_info": {
   "codemirror_mode": {
    "name": "ipython",
    "version": 3
   },
   "file_extension": ".py",
   "mimetype": "text/x-python",
   "name": "python",
   "nbconvert_exporter": "python",
   "pygments_lexer": "ipython3",
   "version": "3.13.3"
  }
 },
 "nbformat": 4,
 "nbformat_minor": 4
}
